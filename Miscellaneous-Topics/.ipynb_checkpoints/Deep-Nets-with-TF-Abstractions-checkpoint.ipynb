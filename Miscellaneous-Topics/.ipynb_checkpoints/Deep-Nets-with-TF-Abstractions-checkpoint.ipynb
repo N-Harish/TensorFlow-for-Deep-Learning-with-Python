{
 "cells": [
  {
   "cell_type": "markdown",
   "metadata": {},
   "source": [
    "# Deep Nets with TF Abstractions\n",
    "\n",
    "Let's explore a few of the various abstractions that TensorFlow offers. You can check out the tf.contrib documentation for more options."
   ]
  },
  {
   "cell_type": "markdown",
   "metadata": {},
   "source": [
    "# The Data"
   ]
  },
  {
   "cell_type": "markdown",
   "metadata": {},
   "source": [
    "To compare these various abstractions we'll use a dataset easily available from the SciKit Learn library. The data is comprised of the results of a chemical analysis of wines grown in the same region in Italy by three different cultivators. There are thirteen different\n",
    "measurements taken for different constituents found in the three types of wine. We will use the various TF Abstractions to classify the wine to one of the 3 possible labels.\n",
    "\n",
    "First let's show you how to get the data:"
   ]
  },
  {
   "cell_type": "code",
   "execution_count": 1,
   "metadata": {},
   "outputs": [],
   "source": [
    "from sklearn.datasets import load_wine"
   ]
  },
  {
   "cell_type": "code",
   "execution_count": 2,
   "metadata": {},
   "outputs": [],
   "source": [
    "wine_data = load_wine()"
   ]
  },
  {
   "cell_type": "code",
   "execution_count": 3,
   "metadata": {},
   "outputs": [
    {
     "data": {
      "text/plain": [
       "sklearn.utils.Bunch"
      ]
     },
     "execution_count": 3,
     "metadata": {},
     "output_type": "execute_result"
    }
   ],
   "source": [
    "type(wine_data)"
   ]
  },
  {
   "cell_type": "code",
   "execution_count": 4,
   "metadata": {},
   "outputs": [
    {
     "data": {
      "text/plain": [
       "dict_keys(['data', 'target', 'target_names', 'DESCR', 'feature_names'])"
      ]
     },
     "execution_count": 4,
     "metadata": {},
     "output_type": "execute_result"
    }
   ],
   "source": [
    "wine_data.keys()"
   ]
  },
  {
   "cell_type": "code",
   "execution_count": 5,
   "metadata": {},
   "outputs": [
    {
     "name": "stdout",
     "output_type": "stream",
     "text": [
      ".. _wine_dataset:\n",
      "\n",
      "Wine recognition dataset\n",
      "------------------------\n",
      "\n",
      "**Data Set Characteristics:**\n",
      "\n",
      "    :Number of Instances: 178 (50 in each of three classes)\n",
      "    :Number of Attributes: 13 numeric, predictive attributes and the class\n",
      "    :Attribute Information:\n",
      " \t\t- Alcohol\n",
      " \t\t- Malic acid\n",
      " \t\t- Ash\n",
      "\t\t- Alcalinity of ash  \n",
      " \t\t- Magnesium\n",
      "\t\t- Total phenols\n",
      " \t\t- Flavanoids\n",
      " \t\t- Nonflavanoid phenols\n",
      " \t\t- Proanthocyanins\n",
      "\t\t- Color intensity\n",
      " \t\t- Hue\n",
      " \t\t- OD280/OD315 of diluted wines\n",
      " \t\t- Proline\n",
      "\n",
      "    - class:\n",
      "            - class_0\n",
      "            - class_1\n",
      "            - class_2\n",
      "\t\t\n",
      "    :Summary Statistics:\n",
      "    \n",
      "    ============================= ==== ===== ======= =====\n",
      "                                   Min   Max   Mean     SD\n",
      "    ============================= ==== ===== ======= =====\n",
      "    Alcohol:                      11.0  14.8    13.0   0.8\n",
      "    Malic Acid:                   0.74  5.80    2.34  1.12\n",
      "    Ash:                          1.36  3.23    2.36  0.27\n",
      "    Alcalinity of Ash:            10.6  30.0    19.5   3.3\n",
      "    Magnesium:                    70.0 162.0    99.7  14.3\n",
      "    Total Phenols:                0.98  3.88    2.29  0.63\n",
      "    Flavanoids:                   0.34  5.08    2.03  1.00\n",
      "    Nonflavanoid Phenols:         0.13  0.66    0.36  0.12\n",
      "    Proanthocyanins:              0.41  3.58    1.59  0.57\n",
      "    Colour Intensity:              1.3  13.0     5.1   2.3\n",
      "    Hue:                          0.48  1.71    0.96  0.23\n",
      "    OD280/OD315 of diluted wines: 1.27  4.00    2.61  0.71\n",
      "    Proline:                       278  1680     746   315\n",
      "    ============================= ==== ===== ======= =====\n",
      "\n",
      "    :Missing Attribute Values: None\n",
      "    :Class Distribution: class_0 (59), class_1 (71), class_2 (48)\n",
      "    :Creator: R.A. Fisher\n",
      "    :Donor: Michael Marshall (MARSHALL%PLU@io.arc.nasa.gov)\n",
      "    :Date: July, 1988\n",
      "\n",
      "This is a copy of UCI ML Wine recognition datasets.\n",
      "https://archive.ics.uci.edu/ml/machine-learning-databases/wine/wine.data\n",
      "\n",
      "The data is the results of a chemical analysis of wines grown in the same\n",
      "region in Italy by three different cultivators. There are thirteen different\n",
      "measurements taken for different constituents found in the three types of\n",
      "wine.\n",
      "\n",
      "Original Owners: \n",
      "\n",
      "Forina, M. et al, PARVUS - \n",
      "An Extendible Package for Data Exploration, Classification and Correlation. \n",
      "Institute of Pharmaceutical and Food Analysis and Technologies,\n",
      "Via Brigata Salerno, 16147 Genoa, Italy.\n",
      "\n",
      "Citation:\n",
      "\n",
      "Lichman, M. (2013). UCI Machine Learning Repository\n",
      "[http://archive.ics.uci.edu/ml]. Irvine, CA: University of California,\n",
      "School of Information and Computer Science. \n",
      "\n",
      ".. topic:: References\n",
      "\n",
      "  (1) S. Aeberhard, D. Coomans and O. de Vel, \n",
      "  Comparison of Classifiers in High Dimensional Settings, \n",
      "  Tech. Rep. no. 92-02, (1992), Dept. of Computer Science and Dept. of  \n",
      "  Mathematics and Statistics, James Cook University of North Queensland. \n",
      "  (Also submitted to Technometrics). \n",
      "\n",
      "  The data was used with many others for comparing various \n",
      "  classifiers. The classes are separable, though only RDA \n",
      "  has achieved 100% correct classification. \n",
      "  (RDA : 100%, QDA 99.4%, LDA 98.9%, 1NN 96.1% (z-transformed data)) \n",
      "  (All results using the leave-one-out technique) \n",
      "\n",
      "  (2) S. Aeberhard, D. Coomans and O. de Vel, \n",
      "  \"THE CLASSIFICATION PERFORMANCE OF RDA\" \n",
      "  Tech. Rep. no. 92-01, (1992), Dept. of Computer Science and Dept. of \n",
      "  Mathematics and Statistics, James Cook University of North Queensland. \n",
      "  (Also submitted to Journal of Chemometrics).\n",
      "\n"
     ]
    }
   ],
   "source": [
    "print(wine_data.DESCR)"
   ]
  },
  {
   "cell_type": "code",
   "execution_count": 6,
   "metadata": {},
   "outputs": [],
   "source": [
    "feat_data = wine_data['data']"
   ]
  },
  {
   "cell_type": "code",
   "execution_count": 8,
   "metadata": {},
   "outputs": [
    {
     "data": {
      "text/plain": [
       "(178, 13)"
      ]
     },
     "execution_count": 8,
     "metadata": {},
     "output_type": "execute_result"
    }
   ],
   "source": [
    "feat_data.shape"
   ]
  },
  {
   "cell_type": "code",
   "execution_count": 9,
   "metadata": {},
   "outputs": [],
   "source": [
    "labels = wine_data['target']"
   ]
  },
  {
   "cell_type": "code",
   "execution_count": 10,
   "metadata": {},
   "outputs": [
    {
     "data": {
      "text/plain": [
       "(178,)"
      ]
     },
     "execution_count": 10,
     "metadata": {},
     "output_type": "execute_result"
    }
   ],
   "source": [
    "labels.shape"
   ]
  },
  {
   "cell_type": "code",
   "execution_count": 11,
   "metadata": {},
   "outputs": [
    {
     "data": {
      "text/plain": [
       "numpy.ndarray"
      ]
     },
     "execution_count": 11,
     "metadata": {},
     "output_type": "execute_result"
    }
   ],
   "source": [
    "type(labels)"
   ]
  },
  {
   "cell_type": "markdown",
   "metadata": {},
   "source": [
    "### Train Test Split"
   ]
  },
  {
   "cell_type": "code",
   "execution_count": 12,
   "metadata": {},
   "outputs": [],
   "source": [
    "from sklearn.model_selection import train_test_split"
   ]
  },
  {
   "cell_type": "code",
   "execution_count": 13,
   "metadata": {},
   "outputs": [],
   "source": [
    "X_train, X_test, y_train, y_test = train_test_split(feat_data,\n",
    "                                                    labels,\n",
    "                                                    test_size=0.3,\n",
    "                                                   random_state=101)"
   ]
  },
  {
   "cell_type": "markdown",
   "metadata": {},
   "source": [
    "### Scale the Data"
   ]
  },
  {
   "cell_type": "code",
   "execution_count": 14,
   "metadata": {},
   "outputs": [],
   "source": [
    "from sklearn.preprocessing import MinMaxScaler"
   ]
  },
  {
   "cell_type": "code",
   "execution_count": 15,
   "metadata": {},
   "outputs": [],
   "source": [
    "scaler = MinMaxScaler()"
   ]
  },
  {
   "cell_type": "code",
   "execution_count": 16,
   "metadata": {},
   "outputs": [],
   "source": [
    "scaled_x_train = scaler.fit_transform(X_train)"
   ]
  },
  {
   "cell_type": "code",
   "execution_count": 17,
   "metadata": {},
   "outputs": [],
   "source": [
    "scaled_x_test = scaler.transform(X_test)"
   ]
  },
  {
   "cell_type": "markdown",
   "metadata": {},
   "source": [
    "# Abstractions"
   ]
  },
  {
   "cell_type": "markdown",
   "metadata": {},
   "source": [
    "## Estimator API"
   ]
  },
  {
   "cell_type": "code",
   "execution_count": 18,
   "metadata": {},
   "outputs": [],
   "source": [
    "import tensorflow as tf"
   ]
  },
  {
   "cell_type": "code",
   "execution_count": 19,
   "metadata": {},
   "outputs": [],
   "source": [
    "from tensorflow import estimator "
   ]
  },
  {
   "cell_type": "code",
   "execution_count": 20,
   "metadata": {},
   "outputs": [
    {
     "data": {
      "text/plain": [
       "(124, 13)"
      ]
     },
     "execution_count": 20,
     "metadata": {},
     "output_type": "execute_result"
    }
   ],
   "source": [
    "X_train.shape"
   ]
  },
  {
   "cell_type": "code",
   "execution_count": 21,
   "metadata": {},
   "outputs": [],
   "source": [
    "feat_cols = [tf.feature_column.numeric_column(\"x\", shape=[13])]"
   ]
  },
  {
   "cell_type": "code",
   "execution_count": 22,
   "metadata": {},
   "outputs": [
    {
     "name": "stdout",
     "output_type": "stream",
     "text": [
      "INFO:tensorflow:Using default config.\n",
      "WARNING:tensorflow:Using temporary folder as model directory: C:\\Users\\SOROOS~1\\AppData\\Local\\Temp\\tmp52yk1yqp\n",
      "INFO:tensorflow:Using config: {'_model_dir': 'C:\\\\Users\\\\SOROOS~1\\\\AppData\\\\Local\\\\Temp\\\\tmp52yk1yqp', '_tf_random_seed': None, '_save_summary_steps': 100, '_save_checkpoints_steps': None, '_save_checkpoints_secs': 600, '_session_config': allow_soft_placement: true\n",
      "graph_options {\n",
      "  rewrite_options {\n",
      "    meta_optimizer_iterations: ONE\n",
      "  }\n",
      "}\n",
      ", '_keep_checkpoint_max': 5, '_keep_checkpoint_every_n_hours': 10000, '_log_step_count_steps': 100, '_train_distribute': None, '_device_fn': None, '_protocol': None, '_eval_distribute': None, '_experimental_distribute': None, '_service': None, '_cluster_spec': <tensorflow.python.training.server_lib.ClusterSpec object at 0x0000028F33F75DA0>, '_task_type': 'worker', '_task_id': 0, '_global_id_in_cluster': 0, '_master': '', '_evaluation_master': '', '_is_chief': True, '_num_ps_replicas': 0, '_num_worker_replicas': 1}\n"
     ]
    }
   ],
   "source": [
    "deep_model = estimator.DNNClassifier(hidden_units=[13,13,13],\n",
    "                            feature_columns=feat_cols,\n",
    "                            n_classes=3,\n",
    "                            optimizer=tf.train.GradientDescentOptimizer(learning_rate=0.01) )"
   ]
  },
  {
   "cell_type": "code",
   "execution_count": 23,
   "metadata": {},
   "outputs": [],
   "source": [
    "input_fn = estimator.inputs.numpy_input_fn(x={'x':scaled_x_train},\n",
    "                                           y=y_train, \n",
    "                                           shuffle=True, \n",
    "                                           batch_size=10,\n",
    "                                           num_epochs=None)"
   ]
  },
  {
   "cell_type": "code",
   "execution_count": 24,
   "metadata": {
    "scrolled": true
   },
   "outputs": [
    {
     "name": "stdout",
     "output_type": "stream",
     "text": [
      "WARNING:tensorflow:From C:\\Users\\Soroosh-PC\\.conda\\envs\\KerasCPU\\lib\\site-packages\\tensorflow\\python\\estimator\\inputs\\queues\\feeding_queue_runner.py:62: QueueRunner.__init__ (from tensorflow.python.training.queue_runner_impl) is deprecated and will be removed in a future version.\n",
      "Instructions for updating:\n",
      "To construct input pipelines, use the `tf.data` module.\n",
      "WARNING:tensorflow:From C:\\Users\\Soroosh-PC\\.conda\\envs\\KerasCPU\\lib\\site-packages\\tensorflow\\python\\estimator\\inputs\\queues\\feeding_functions.py:500: add_queue_runner (from tensorflow.python.training.queue_runner_impl) is deprecated and will be removed in a future version.\n",
      "Instructions for updating:\n",
      "To construct input pipelines, use the `tf.data` module.\n",
      "INFO:tensorflow:Calling model_fn.\n",
      "INFO:tensorflow:Done calling model_fn.\n",
      "INFO:tensorflow:Create CheckpointSaverHook.\n",
      "INFO:tensorflow:Graph was finalized.\n",
      "INFO:tensorflow:Running local_init_op.\n",
      "INFO:tensorflow:Done running local_init_op.\n",
      "WARNING:tensorflow:From C:\\Users\\Soroosh-PC\\.conda\\envs\\KerasCPU\\lib\\site-packages\\tensorflow\\python\\training\\monitored_session.py:804: start_queue_runners (from tensorflow.python.training.queue_runner_impl) is deprecated and will be removed in a future version.\n",
      "Instructions for updating:\n",
      "To construct input pipelines, use the `tf.data` module.\n",
      "INFO:tensorflow:Saving checkpoints for 0 into C:\\Users\\SOROOS~1\\AppData\\Local\\Temp\\tmp52yk1yqp\\model.ckpt.\n",
      "INFO:tensorflow:loss = 10.599438, step = 1\n",
      "INFO:tensorflow:global_step/sec: 629.287\n",
      "INFO:tensorflow:loss = 2.6740909, step = 101 (0.160 sec)\n",
      "INFO:tensorflow:global_step/sec: 813.487\n",
      "INFO:tensorflow:loss = 1.8385385, step = 201 (0.123 sec)\n",
      "INFO:tensorflow:global_step/sec: 758.007\n",
      "INFO:tensorflow:loss = 0.7007909, step = 301 (0.132 sec)\n",
      "INFO:tensorflow:global_step/sec: 806.915\n",
      "INFO:tensorflow:loss = 0.16391657, step = 401 (0.124 sec)\n",
      "INFO:tensorflow:Saving checkpoints for 500 into C:\\Users\\SOROOS~1\\AppData\\Local\\Temp\\tmp52yk1yqp\\model.ckpt.\n",
      "INFO:tensorflow:Loss for final step: 0.025945747.\n"
     ]
    },
    {
     "data": {
      "text/plain": [
       "<tensorflow.python.estimator.canned.dnn.DNNClassifier at 0x28f33f75940>"
      ]
     },
     "execution_count": 24,
     "metadata": {},
     "output_type": "execute_result"
    }
   ],
   "source": [
    "deep_model.train(input_fn=input_fn, steps=500)"
   ]
  },
  {
   "cell_type": "code",
   "execution_count": 25,
   "metadata": {},
   "outputs": [],
   "source": [
    "input_fn_eval = estimator.inputs.numpy_input_fn(x={'x':scaled_x_test},\n",
    "                                                shuffle=False)"
   ]
  },
  {
   "cell_type": "code",
   "execution_count": 26,
   "metadata": {},
   "outputs": [
    {
     "name": "stdout",
     "output_type": "stream",
     "text": [
      "INFO:tensorflow:Calling model_fn.\n",
      "INFO:tensorflow:Done calling model_fn.\n",
      "INFO:tensorflow:Graph was finalized.\n",
      "INFO:tensorflow:Restoring parameters from C:\\Users\\SOROOS~1\\AppData\\Local\\Temp\\tmp52yk1yqp\\model.ckpt-500\n",
      "INFO:tensorflow:Running local_init_op.\n",
      "INFO:tensorflow:Done running local_init_op.\n"
     ]
    }
   ],
   "source": [
    "preds = list(deep_model.predict(input_fn=input_fn_eval))"
   ]
  },
  {
   "cell_type": "code",
   "execution_count": 27,
   "metadata": {},
   "outputs": [],
   "source": [
    "predictions = [p['class_ids'][0] for p in preds]"
   ]
  },
  {
   "cell_type": "code",
   "execution_count": 28,
   "metadata": {},
   "outputs": [],
   "source": [
    "from sklearn.metrics import confusion_matrix,classification_report"
   ]
  },
  {
   "cell_type": "code",
   "execution_count": 29,
   "metadata": {},
   "outputs": [
    {
     "name": "stdout",
     "output_type": "stream",
     "text": [
      "              precision    recall  f1-score   support\n",
      "\n",
      "           0       1.00      1.00      1.00        19\n",
      "           1       1.00      1.00      1.00        22\n",
      "           2       1.00      1.00      1.00        13\n",
      "\n",
      "   micro avg       1.00      1.00      1.00        54\n",
      "   macro avg       1.00      1.00      1.00        54\n",
      "weighted avg       1.00      1.00      1.00        54\n",
      "\n"
     ]
    }
   ],
   "source": [
    "print(classification_report(y_test,predictions))"
   ]
  },
  {
   "cell_type": "code",
   "execution_count": 30,
   "metadata": {},
   "outputs": [
    {
     "data": {
      "text/plain": [
       "array([0, 0, 2, 0, 2, 1, 2, 0, 1, 1, 0, 1, 0, 0, 0, 0, 1, 2, 1, 1, 1, 2,\n",
       "       2, 2, 0, 0, 1, 1, 2, 1, 2, 1, 1, 0, 0, 0, 0, 1, 1, 2, 1, 0, 0, 1,\n",
       "       2, 1, 1, 2, 2, 1, 0, 1, 1, 0])"
      ]
     },
     "execution_count": 30,
     "metadata": {},
     "output_type": "execute_result"
    }
   ],
   "source": [
    "y_test"
   ]
  },
  {
   "cell_type": "markdown",
   "metadata": {},
   "source": [
    "____________\n",
    "______________"
   ]
  },
  {
   "cell_type": "markdown",
   "metadata": {},
   "source": [
    "# TensorFlow Keras"
   ]
  },
  {
   "cell_type": "markdown",
   "metadata": {},
   "source": [
    "### Create the Model"
   ]
  },
  {
   "cell_type": "code",
   "execution_count": 31,
   "metadata": {},
   "outputs": [],
   "source": [
    "from tensorflow.contrib.keras import models"
   ]
  },
  {
   "cell_type": "code",
   "execution_count": 32,
   "metadata": {},
   "outputs": [],
   "source": [
    "dnn_keras_model = models.Sequential()"
   ]
  },
  {
   "cell_type": "markdown",
   "metadata": {},
   "source": [
    "### Add Layers to the model"
   ]
  },
  {
   "cell_type": "code",
   "execution_count": 33,
   "metadata": {},
   "outputs": [],
   "source": [
    "from tensorflow.contrib.keras import layers"
   ]
  },
  {
   "cell_type": "code",
   "execution_count": 34,
   "metadata": {},
   "outputs": [],
   "source": [
    "dnn_keras_model.add(layers.Dense(units=13, input_dim=13, activation='relu'))"
   ]
  },
  {
   "cell_type": "code",
   "execution_count": 35,
   "metadata": {},
   "outputs": [],
   "source": [
    "dnn_keras_model.add(layers.Dense(units=13, activation='relu'))\n",
    "dnn_keras_model.add(layers.Dense(units=13, activation='relu'))"
   ]
  },
  {
   "cell_type": "code",
   "execution_count": 36,
   "metadata": {},
   "outputs": [],
   "source": [
    "dnn_keras_model.add(layers.Dense(units=3, activation='softmax'))"
   ]
  },
  {
   "cell_type": "markdown",
   "metadata": {},
   "source": [
    "### Compile the Model"
   ]
  },
  {
   "cell_type": "code",
   "execution_count": 37,
   "metadata": {},
   "outputs": [],
   "source": [
    "from tensorflow.contrib.keras import losses,optimizers,metrics"
   ]
  },
  {
   "cell_type": "code",
   "execution_count": 38,
   "metadata": {},
   "outputs": [
    {
     "data": {
      "text/plain": [
       "<function tensorflow.python.keras.losses.sparse_categorical_crossentropy(y_true, y_pred)>"
      ]
     },
     "execution_count": 38,
     "metadata": {},
     "output_type": "execute_result"
    }
   ],
   "source": [
    "losses.sparse_categorical_crossentropy"
   ]
  },
  {
   "cell_type": "code",
   "execution_count": 39,
   "metadata": {},
   "outputs": [],
   "source": [
    "dnn_keras_model.compile(optimizer='adam',\n",
    "              loss='sparse_categorical_crossentropy',\n",
    "              metrics=['accuracy'])"
   ]
  },
  {
   "cell_type": "markdown",
   "metadata": {},
   "source": [
    "### Train Model"
   ]
  },
  {
   "cell_type": "code",
   "execution_count": 41,
   "metadata": {},
   "outputs": [
    {
     "name": "stdout",
     "output_type": "stream",
     "text": [
      "Epoch 1/75\n",
      "124/124 [==============================] - 0s 126us/step - loss: 0.2082 - acc: 0.9758\n",
      "Epoch 2/75\n",
      "124/124 [==============================] - 0s 126us/step - loss: 0.1965 - acc: 0.9758\n",
      "Epoch 3/75\n",
      "124/124 [==============================] - 0s 0us/step - loss: 0.1863 - acc: 0.9758\n",
      "Epoch 4/75\n",
      "124/124 [==============================] - 0s 126us/step - loss: 0.1778 - acc: 0.9758\n",
      "Epoch 5/75\n",
      "124/124 [==============================] - 0s 0us/step - loss: 0.1689 - acc: 0.9758\n",
      "Epoch 6/75\n",
      "124/124 [==============================] - 0s 126us/step - loss: 0.1601 - acc: 0.9758\n",
      "Epoch 7/75\n",
      "124/124 [==============================] - 0s 0us/step - loss: 0.1526 - acc: 0.9758\n",
      "Epoch 8/75\n",
      "124/124 [==============================] - 0s 126us/step - loss: 0.1461 - acc: 0.9758\n",
      "Epoch 9/75\n",
      "124/124 [==============================] - 0s 0us/step - loss: 0.1395 - acc: 0.9758\n",
      "Epoch 10/75\n",
      "124/124 [==============================] - 0s 126us/step - loss: 0.1333 - acc: 0.9758\n",
      "Epoch 11/75\n",
      "124/124 [==============================] - 0s 126us/step - loss: 0.1276 - acc: 0.9839\n",
      "Epoch 12/75\n",
      "124/124 [==============================] - 0s 0us/step - loss: 0.1220 - acc: 0.9839\n",
      "Epoch 13/75\n",
      "124/124 [==============================] - 0s 126us/step - loss: 0.1169 - acc: 0.9839\n",
      "Epoch 14/75\n",
      "124/124 [==============================] - 0s 126us/step - loss: 0.1127 - acc: 0.9839\n",
      "Epoch 15/75\n",
      "124/124 [==============================] - 0s 0us/step - loss: 0.1083 - acc: 0.9919\n",
      "Epoch 16/75\n",
      "124/124 [==============================] - 0s 126us/step - loss: 0.1040 - acc: 0.9839\n",
      "Epoch 17/75\n",
      "124/124 [==============================] - 0s 0us/step - loss: 0.1006 - acc: 0.9839\n",
      "Epoch 18/75\n",
      "124/124 [==============================] - 0s 126us/step - loss: 0.0971 - acc: 0.9839\n",
      "Epoch 19/75\n",
      "124/124 [==============================] - 0s 0us/step - loss: 0.0940 - acc: 0.9839\n",
      "Epoch 20/75\n",
      "124/124 [==============================] - 0s 0us/step - loss: 0.0900 - acc: 0.9919\n",
      "Epoch 21/75\n",
      "124/124 [==============================] - 0s 126us/step - loss: 0.0873 - acc: 0.9919\n",
      "Epoch 22/75\n",
      "124/124 [==============================] - 0s 84us/step - loss: 0.0853 - acc: 0.9919\n",
      "Epoch 23/75\n",
      "124/124 [==============================] - 0s 97us/step - loss: 0.0813 - acc: 0.9919\n",
      "Epoch 24/75\n",
      "124/124 [==============================] - 0s 129us/step - loss: 0.0788 - acc: 0.9919\n",
      "Epoch 25/75\n",
      "124/124 [==============================] - 0s 64us/step - loss: 0.0762 - acc: 0.9919\n",
      "Epoch 26/75\n",
      "124/124 [==============================] - 0s 64us/step - loss: 0.0743 - acc: 0.9919\n",
      "Epoch 27/75\n",
      "124/124 [==============================] - 0s 65us/step - loss: 0.0723 - acc: 0.9919\n",
      "Epoch 28/75\n",
      "124/124 [==============================] - 0s 97us/step - loss: 0.0707 - acc: 0.9919\n",
      "Epoch 29/75\n",
      "124/124 [==============================] - 0s 97us/step - loss: 0.0693 - acc: 0.9919\n",
      "Epoch 30/75\n",
      "124/124 [==============================] - 0s 129us/step - loss: 0.0660 - acc: 0.9919\n",
      "Epoch 31/75\n",
      "124/124 [==============================] - 0s 97us/step - loss: 0.0645 - acc: 0.9919\n",
      "Epoch 32/75\n",
      "124/124 [==============================] - 0s 129us/step - loss: 0.0626 - acc: 0.9919\n",
      "Epoch 33/75\n",
      "124/124 [==============================] - 0s 97us/step - loss: 0.0610 - acc: 0.9919\n",
      "Epoch 34/75\n",
      "124/124 [==============================] - 0s 161us/step - loss: 0.0588 - acc: 0.9919\n",
      "Epoch 35/75\n",
      "124/124 [==============================] - 0s 97us/step - loss: 0.0575 - acc: 0.9919\n",
      "Epoch 36/75\n",
      "124/124 [==============================] - 0s 97us/step - loss: 0.0560 - acc: 0.9919\n",
      "Epoch 37/75\n",
      "124/124 [==============================] - 0s 129us/step - loss: 0.0546 - acc: 0.9919\n",
      "Epoch 38/75\n",
      "124/124 [==============================] - 0s 97us/step - loss: 0.0530 - acc: 0.9919\n",
      "Epoch 39/75\n",
      "124/124 [==============================] - 0s 97us/step - loss: 0.0524 - acc: 0.9919\n",
      "Epoch 40/75\n",
      "124/124 [==============================] - 0s 193us/step - loss: 0.0505 - acc: 0.9919\n",
      "Epoch 41/75\n",
      "124/124 [==============================] - 0s 161us/step - loss: 0.0491 - acc: 0.9919\n",
      "Epoch 42/75\n",
      "124/124 [==============================] - 0s 129us/step - loss: 0.0490 - acc: 1.0000\n",
      "Epoch 43/75\n",
      "124/124 [==============================] - 0s 129us/step - loss: 0.0472 - acc: 1.0000\n",
      "Epoch 44/75\n",
      "124/124 [==============================] - 0s 97us/step - loss: 0.0458 - acc: 1.0000\n",
      "Epoch 45/75\n",
      "124/124 [==============================] - 0s 129us/step - loss: 0.0451 - acc: 0.9919\n",
      "Epoch 46/75\n",
      "124/124 [==============================] - 0s 129us/step - loss: 0.0440 - acc: 1.0000\n",
      "Epoch 47/75\n",
      "124/124 [==============================] - 0s 64us/step - loss: 0.0432 - acc: 1.0000\n",
      "Epoch 48/75\n",
      "124/124 [==============================] - 0s 65us/step - loss: 0.0420 - acc: 1.0000\n",
      "Epoch 49/75\n",
      "124/124 [==============================] - 0s 226us/step - loss: 0.0410 - acc: 1.0000\n",
      "Epoch 50/75\n",
      "124/124 [==============================] - 0s 64us/step - loss: 0.0398 - acc: 1.0000\n",
      "Epoch 51/75\n",
      "124/124 [==============================] - 0s 129us/step - loss: 0.0401 - acc: 1.0000\n",
      "Epoch 52/75\n",
      "124/124 [==============================] - 0s 161us/step - loss: 0.0384 - acc: 1.0000\n",
      "Epoch 53/75\n",
      "124/124 [==============================] - 0s 97us/step - loss: 0.0372 - acc: 1.0000\n",
      "Epoch 54/75\n",
      "124/124 [==============================] - 0s 97us/step - loss: 0.0365 - acc: 1.0000\n",
      "Epoch 55/75\n",
      "124/124 [==============================] - 0s 64us/step - loss: 0.0361 - acc: 1.0000\n",
      "Epoch 56/75\n",
      "124/124 [==============================] - 0s 97us/step - loss: 0.0353 - acc: 1.0000\n",
      "Epoch 57/75\n",
      "124/124 [==============================] - 0s 97us/step - loss: 0.0343 - acc: 1.0000\n",
      "Epoch 58/75\n",
      "124/124 [==============================] - 0s 129us/step - loss: 0.0340 - acc: 1.0000\n",
      "Epoch 59/75\n",
      "124/124 [==============================] - 0s 65us/step - loss: 0.0333 - acc: 1.0000\n",
      "Epoch 60/75\n",
      "124/124 [==============================] - 0s 64us/step - loss: 0.0326 - acc: 1.0000\n",
      "Epoch 61/75\n",
      "124/124 [==============================] - 0s 65us/step - loss: 0.0318 - acc: 1.0000\n",
      "Epoch 62/75\n",
      "124/124 [==============================] - 0s 64us/step - loss: 0.0311 - acc: 1.0000\n",
      "Epoch 63/75\n",
      "124/124 [==============================] - 0s 65us/step - loss: 0.0305 - acc: 1.0000\n",
      "Epoch 64/75\n",
      "124/124 [==============================] - 0s 97us/step - loss: 0.0299 - acc: 1.0000\n",
      "Epoch 65/75\n",
      "124/124 [==============================] - 0s 97us/step - loss: 0.0296 - acc: 1.0000\n",
      "Epoch 66/75\n",
      "124/124 [==============================] - 0s 97us/step - loss: 0.0289 - acc: 1.0000\n",
      "Epoch 67/75\n",
      "124/124 [==============================] - 0s 65us/step - loss: 0.0286 - acc: 1.0000\n",
      "Epoch 68/75\n",
      "124/124 [==============================] - 0s 97us/step - loss: 0.0277 - acc: 1.0000\n",
      "Epoch 69/75\n",
      "124/124 [==============================] - 0s 64us/step - loss: 0.0273 - acc: 1.0000\n",
      "Epoch 70/75\n",
      "124/124 [==============================] - 0s 64us/step - loss: 0.0270 - acc: 1.0000\n",
      "Epoch 71/75\n",
      "124/124 [==============================] - 0s 64us/step - loss: 0.0262 - acc: 1.0000\n",
      "Epoch 72/75\n",
      "124/124 [==============================] - 0s 64us/step - loss: 0.0260 - acc: 1.0000\n",
      "Epoch 73/75\n",
      "124/124 [==============================] - 0s 65us/step - loss: 0.0254 - acc: 1.0000\n",
      "Epoch 74/75\n",
      "124/124 [==============================] - 0s 65us/step - loss: 0.0249 - acc: 1.0000\n",
      "Epoch 75/75\n",
      "124/124 [==============================] - 0s 64us/step - loss: 0.0243 - acc: 1.0000\n"
     ]
    },
    {
     "data": {
      "text/plain": [
       "<tensorflow.python.keras.callbacks.History at 0x28f377aa860>"
      ]
     },
     "execution_count": 41,
     "metadata": {},
     "output_type": "execute_result"
    }
   ],
   "source": [
    "dnn_keras_model.fit(scaled_x_train, y_train, epochs=75)"
   ]
  },
  {
   "cell_type": "code",
   "execution_count": 42,
   "metadata": {},
   "outputs": [],
   "source": [
    "predictions = dnn_keras_model.predict_classes(scaled_x_test)"
   ]
  },
  {
   "cell_type": "code",
   "execution_count": 43,
   "metadata": {},
   "outputs": [
    {
     "name": "stdout",
     "output_type": "stream",
     "text": [
      "              precision    recall  f1-score   support\n",
      "\n",
      "           0       1.00      1.00      1.00        19\n",
      "           1       1.00      1.00      1.00        22\n",
      "           2       1.00      1.00      1.00        13\n",
      "\n",
      "   micro avg       1.00      1.00      1.00        54\n",
      "   macro avg       1.00      1.00      1.00        54\n",
      "weighted avg       1.00      1.00      1.00        54\n",
      "\n"
     ]
    }
   ],
   "source": [
    "print(classification_report(predictions,y_test))"
   ]
  },
  {
   "cell_type": "markdown",
   "metadata": {},
   "source": [
    "# Layers API\n",
    "\n",
    "https://www.tensorflow.org/tutorials/layers"
   ]
  },
  {
   "cell_type": "markdown",
   "metadata": {},
   "source": [
    "## Formating Data"
   ]
  },
  {
   "cell_type": "code",
   "execution_count": 44,
   "metadata": {},
   "outputs": [],
   "source": [
    "import pandas as pd\n",
    "from sklearn.datasets import load_wine\n",
    "from sklearn.model_selection import train_test_split\n",
    "from sklearn.preprocessing import MinMaxScaler"
   ]
  },
  {
   "cell_type": "code",
   "execution_count": 45,
   "metadata": {},
   "outputs": [],
   "source": [
    "wine_data = load_wine()\n",
    "feat_data = wine_data['data']\n",
    "labels = wine_data['target']"
   ]
  },
  {
   "cell_type": "code",
   "execution_count": 46,
   "metadata": {},
   "outputs": [],
   "source": [
    "X_train, X_test, y_train, y_test = train_test_split(feat_data,\n",
    "                                                    labels,\n",
    "                                                    test_size=0.3,\n",
    "                                                   random_state=101)"
   ]
  },
  {
   "cell_type": "code",
   "execution_count": 47,
   "metadata": {},
   "outputs": [],
   "source": [
    "scaler = MinMaxScaler()\n",
    "scaled_x_train = scaler.fit_transform(X_train)\n",
    "scaled_x_test = scaler.transform(X_test)\n"
   ]
  },
  {
   "cell_type": "code",
   "execution_count": 49,
   "metadata": {},
   "outputs": [],
   "source": [
    "# ONE HOT ENCODED\n",
    "onehot_y_train = pd.get_dummies(y_train).values\n",
    "one_hot_y_test = pd.get_dummies(y_test).values"
   ]
  },
  {
   "cell_type": "code",
   "execution_count": 50,
   "metadata": {},
   "outputs": [
    {
     "data": {
      "text/plain": [
       "array([[1, 0, 0],\n",
       "       [1, 0, 0],\n",
       "       [0, 0, 1],\n",
       "       [1, 0, 0],\n",
       "       [0, 0, 1],\n",
       "       [0, 1, 0],\n",
       "       [0, 0, 1],\n",
       "       [1, 0, 0],\n",
       "       [0, 1, 0],\n",
       "       [0, 1, 0],\n",
       "       [1, 0, 0],\n",
       "       [0, 1, 0],\n",
       "       [1, 0, 0],\n",
       "       [1, 0, 0],\n",
       "       [1, 0, 0],\n",
       "       [1, 0, 0],\n",
       "       [0, 1, 0],\n",
       "       [0, 0, 1],\n",
       "       [0, 1, 0],\n",
       "       [0, 1, 0],\n",
       "       [0, 1, 0],\n",
       "       [0, 0, 1],\n",
       "       [0, 0, 1],\n",
       "       [0, 0, 1],\n",
       "       [1, 0, 0],\n",
       "       [1, 0, 0],\n",
       "       [0, 1, 0],\n",
       "       [0, 1, 0],\n",
       "       [0, 0, 1],\n",
       "       [0, 1, 0],\n",
       "       [0, 0, 1],\n",
       "       [0, 1, 0],\n",
       "       [0, 1, 0],\n",
       "       [1, 0, 0],\n",
       "       [1, 0, 0],\n",
       "       [1, 0, 0],\n",
       "       [1, 0, 0],\n",
       "       [0, 1, 0],\n",
       "       [0, 1, 0],\n",
       "       [0, 0, 1],\n",
       "       [0, 1, 0],\n",
       "       [1, 0, 0],\n",
       "       [1, 0, 0],\n",
       "       [0, 1, 0],\n",
       "       [0, 0, 1],\n",
       "       [0, 1, 0],\n",
       "       [0, 1, 0],\n",
       "       [0, 0, 1],\n",
       "       [0, 0, 1],\n",
       "       [0, 1, 0],\n",
       "       [1, 0, 0],\n",
       "       [0, 1, 0],\n",
       "       [0, 1, 0],\n",
       "       [1, 0, 0]], dtype=uint8)"
      ]
     },
     "execution_count": 50,
     "metadata": {},
     "output_type": "execute_result"
    }
   ],
   "source": [
    "one_hot_y_test"
   ]
  },
  {
   "cell_type": "markdown",
   "metadata": {},
   "source": [
    "### Parameters"
   ]
  },
  {
   "cell_type": "code",
   "execution_count": 51,
   "metadata": {},
   "outputs": [],
   "source": [
    "num_feat = 13\n",
    "num_hidden1 = 13\n",
    "num_hidden2 = 13\n",
    "num_outputs = 3\n",
    "learning_rate = 0.01"
   ]
  },
  {
   "cell_type": "code",
   "execution_count": 52,
   "metadata": {},
   "outputs": [],
   "source": [
    "import tensorflow as tf\n",
    "from tensorflow.contrib.layers import fully_connected"
   ]
  },
  {
   "cell_type": "markdown",
   "metadata": {},
   "source": [
    "### Placeholder"
   ]
  },
  {
   "cell_type": "code",
   "execution_count": 53,
   "metadata": {},
   "outputs": [],
   "source": [
    "X = tf.placeholder(tf.float32,shape=[None,num_feat])\n",
    "y_true = tf.placeholder(tf.float32,shape=[None,3])"
   ]
  },
  {
   "cell_type": "markdown",
   "metadata": {},
   "source": [
    "### Create Layers"
   ]
  },
  {
   "cell_type": "code",
   "execution_count": 54,
   "metadata": {},
   "outputs": [],
   "source": [
    "hidden1 = fully_connected(X, num_hidden1, activation_fn=tf.nn.relu)"
   ]
  },
  {
   "cell_type": "code",
   "execution_count": 55,
   "metadata": {},
   "outputs": [],
   "source": [
    "hidden2 = fully_connected(hidden1, num_hidden2, activation_fn=tf.nn.relu)"
   ]
  },
  {
   "cell_type": "code",
   "execution_count": 56,
   "metadata": {},
   "outputs": [],
   "source": [
    "output = fully_connected(hidden2, num_outputs)"
   ]
  },
  {
   "cell_type": "markdown",
   "metadata": {},
   "source": [
    "### Loss Function"
   ]
  },
  {
   "cell_type": "code",
   "execution_count": 57,
   "metadata": {},
   "outputs": [],
   "source": [
    "loss = tf.losses.softmax_cross_entropy(onehot_labels=y_true, logits=output)"
   ]
  },
  {
   "cell_type": "markdown",
   "metadata": {},
   "source": [
    "### Optimizer"
   ]
  },
  {
   "cell_type": "code",
   "execution_count": 58,
   "metadata": {},
   "outputs": [],
   "source": [
    "optimizer = tf.train.AdamOptimizer(learning_rate)\n",
    "train = optimizer.minimize(loss)"
   ]
  },
  {
   "cell_type": "markdown",
   "metadata": {},
   "source": [
    "### Init"
   ]
  },
  {
   "cell_type": "code",
   "execution_count": 59,
   "metadata": {},
   "outputs": [],
   "source": [
    "init = tf.global_variables_initializer()"
   ]
  },
  {
   "cell_type": "code",
   "execution_count": 61,
   "metadata": {},
   "outputs": [],
   "source": [
    "training_steps = 1000\n",
    "with tf.Session() as sess:\n",
    "    sess.run(init)\n",
    "    \n",
    "    for i in range(training_steps):\n",
    "        sess.run(train,feed_dict={X:scaled_x_train,y_true:onehot_y_train})\n",
    "        \n",
    "    # Get Predictions\n",
    "    logits = output.eval(feed_dict={X:scaled_x_test})\n",
    "    \n",
    "    preds = tf.argmax(logits,axis=1)\n",
    "    \n",
    "    results = preds.eval()"
   ]
  },
  {
   "cell_type": "code",
   "execution_count": 65,
   "metadata": {},
   "outputs": [
    {
     "name": "stdout",
     "output_type": "stream",
     "text": [
      "[[ 0.          0.          0.        ]\n",
      " [ 0.          0.          0.        ]\n",
      " [ 0.          1.2078943  16.174726  ]\n",
      " [ 0.          0.          0.        ]\n",
      " [ 0.          0.5802557  17.178371  ]\n",
      " [ 0.         13.480734    0.        ]\n",
      " [ 0.          0.55363595 14.465715  ]\n",
      " [ 0.          0.          0.        ]\n",
      " [ 0.          4.9857817   0.        ]\n",
      " [ 0.          6.620468    0.        ]\n",
      " [ 0.          0.          0.        ]\n",
      " [ 0.          5.4437943   0.        ]\n",
      " [ 0.          0.          0.        ]\n",
      " [ 0.          0.          0.        ]\n",
      " [ 0.          0.          0.        ]\n",
      " [ 0.          0.          0.        ]\n",
      " [ 0.         17.149347    0.        ]\n",
      " [ 0.          3.918372   12.398955  ]\n",
      " [ 0.         19.962719    0.        ]\n",
      " [ 0.         19.945858    0.        ]\n",
      " [ 0.         13.473624    0.        ]\n",
      " [ 0.          5.8578978   7.7024865 ]\n",
      " [ 0.          8.508318   12.219375  ]\n",
      " [ 0.          0.         16.544395  ]\n",
      " [ 0.          0.          0.        ]\n",
      " [ 0.          0.          0.        ]\n",
      " [ 0.         15.093569    0.        ]\n",
      " [ 0.          5.942306    0.        ]\n",
      " [ 0.          2.4089231  16.162249  ]\n",
      " [ 0.         19.052092    0.        ]\n",
      " [ 0.          0.         13.944219  ]\n",
      " [ 0.          9.920165    4.7504673 ]\n",
      " [ 0.         11.38496     7.8927712 ]\n",
      " [ 0.          0.          0.        ]\n",
      " [ 0.          0.          0.        ]\n",
      " [ 0.          0.          0.        ]\n",
      " [ 0.          0.          0.        ]\n",
      " [ 0.          9.049355    0.06299518]\n",
      " [ 0.         15.852222    0.        ]\n",
      " [ 0.          2.1228073  18.139715  ]\n",
      " [ 0.         19.51201     0.        ]\n",
      " [ 0.          0.          0.        ]\n",
      " [ 0.          0.          0.        ]\n",
      " [ 0.         10.56344     0.        ]\n",
      " [ 0.          5.309979   12.742932  ]\n",
      " [ 0.         17.73154     0.        ]\n",
      " [ 0.         23.231949    0.        ]\n",
      " [ 0.          1.6722724  11.47297   ]\n",
      " [ 0.          0.32373306 15.0522585 ]\n",
      " [ 0.          0.          0.        ]\n",
      " [ 0.          0.          0.        ]\n",
      " [ 0.         11.836039    0.        ]\n",
      " [ 0.         14.217546    0.        ]\n",
      " [ 0.          0.          0.        ]]\n",
      "[0 0 2 0 2 1 2 0 1 1 0 1 0 0 0 0 1 2 1 1 1 2 2 2 0 0 1 1 2 1 2 1 1 0 0 0 0\n",
      " 1 1 2 1 0 0 1 2 1 1 2 2 0 0 1 1 0]\n"
     ]
    }
   ],
   "source": [
    "print(logits)\n",
    "print(results)"
   ]
  },
  {
   "cell_type": "code",
   "execution_count": 66,
   "metadata": {},
   "outputs": [
    {
     "name": "stdout",
     "output_type": "stream",
     "text": [
      "              precision    recall  f1-score   support\n",
      "\n",
      "           0       1.00      0.95      0.97        20\n",
      "           1       0.95      1.00      0.98        21\n",
      "           2       1.00      1.00      1.00        13\n",
      "\n",
      "   micro avg       0.98      0.98      0.98        54\n",
      "   macro avg       0.98      0.98      0.98        54\n",
      "weighted avg       0.98      0.98      0.98        54\n",
      "\n"
     ]
    }
   ],
   "source": [
    "from sklearn.metrics import confusion_matrix,classification_report\n",
    "print(classification_report(results,y_test))"
   ]
  }
 ],
 "metadata": {
  "anaconda-cloud": {},
  "kernelspec": {
   "display_name": "Python 3",
   "language": "python",
   "name": "python3"
  },
  "language_info": {
   "codemirror_mode": {
    "name": "ipython",
    "version": 3
   },
   "file_extension": ".py",
   "mimetype": "text/x-python",
   "name": "python",
   "nbconvert_exporter": "python",
   "pygments_lexer": "ipython3",
   "version": "3.6.8"
  }
 },
 "nbformat": 4,
 "nbformat_minor": 2
}
